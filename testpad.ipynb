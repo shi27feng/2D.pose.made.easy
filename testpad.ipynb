{
 "cells": [
  {
   "cell_type": "code",
   "execution_count": 1,
   "metadata": {
    "pycharm": {
     "is_executing": false
    }
   },
   "outputs": [],
   "source": [
    "from config import train_config as cfg\n",
    "try:\n",
    "    import cupy as np\n",
    "except ImportError:\n",
    "    import numpy as np\n",
    "\n",
    "from coco import CocoDataset"
   ]
  },
  {
   "cell_type": "code",
   "execution_count": 2,
   "metadata": {},
   "outputs": [],
   "source": [
    "dset = CocoDataset(cfg=cfg)"
   ]
  },
  {
   "cell_type": "code",
   "execution_count": 3,
   "metadata": {},
   "outputs": [],
   "source": [
    "sample = dset[0]"
   ]
  },
  {
   "cell_type": "code",
   "execution_count": 9,
   "metadata": {},
   "outputs": [],
   "source": [
    "import matplotlib.pyplot as plt"
   ]
  },
  {
   "cell_type": "code",
   "execution_count": 14,
   "metadata": {},
   "outputs": [
    {
     "data": {
      "text/plain": [
       "[{'segmentation': [[267.03,\n",
       "    243.78,\n",
       "    314.59,\n",
       "    154.05,\n",
       "    357.84,\n",
       "    136.76,\n",
       "    374.05,\n",
       "    104.32,\n",
       "    410.81,\n",
       "    110.81,\n",
       "    429.19,\n",
       "    131.35,\n",
       "    420.54,\n",
       "    165.95,\n",
       "    451.89,\n",
       "    209.19,\n",
       "    464.86,\n",
       "    240.54,\n",
       "    480,\n",
       "    253.51,\n",
       "    484.32,\n",
       "    263.24,\n",
       "    496.22,\n",
       "    271.89,\n",
       "    484.32,\n",
       "    278.38,\n",
       "    438.92,\n",
       "    257.84,\n",
       "    401.08,\n",
       "    216.76,\n",
       "    370.81,\n",
       "    247.03,\n",
       "    414.05,\n",
       "    277.3,\n",
       "    433.51,\n",
       "    304.32,\n",
       "    443.24,\n",
       "    323.78,\n",
       "    400,\n",
       "    362.7,\n",
       "    376.22,\n",
       "    375.68,\n",
       "    400,\n",
       "    418.92,\n",
       "    394.59,\n",
       "    424.32,\n",
       "    337.3,\n",
       "    382.16,\n",
       "    337.3,\n",
       "    371.35,\n",
       "    388.11,\n",
       "    327.03,\n",
       "    341.62,\n",
       "    301.08,\n",
       "    311.35,\n",
       "    276.22,\n",
       "    304.86,\n",
       "    263.24,\n",
       "    294.05,\n",
       "    249.19]],\n",
       "  'num_keypoints': 8,\n",
       "  'area': 28292.08625,\n",
       "  'iscrowd': 0,\n",
       "  'keypoints': [0,\n",
       "   0,\n",
       "   0,\n",
       "   0,\n",
       "   0,\n",
       "   0,\n",
       "   0,\n",
       "   0,\n",
       "   0,\n",
       "   0,\n",
       "   0,\n",
       "   0,\n",
       "   0,\n",
       "   0,\n",
       "   0,\n",
       "   325,\n",
       "   160,\n",
       "   2,\n",
       "   398,\n",
       "   177,\n",
       "   2,\n",
       "   0,\n",
       "   0,\n",
       "   0,\n",
       "   437,\n",
       "   238,\n",
       "   2,\n",
       "   0,\n",
       "   0,\n",
       "   0,\n",
       "   477,\n",
       "   270,\n",
       "   2,\n",
       "   287,\n",
       "   255,\n",
       "   1,\n",
       "   339,\n",
       "   267,\n",
       "   2,\n",
       "   0,\n",
       "   0,\n",
       "   0,\n",
       "   423,\n",
       "   314,\n",
       "   2,\n",
       "   0,\n",
       "   0,\n",
       "   0,\n",
       "   355,\n",
       "   367,\n",
       "   2],\n",
       "  'image_id': 537548,\n",
       "  'bbox': [267.03, 104.32, 229.19, 320],\n",
       "  'category_id': 1,\n",
       "  'id': 183020}]"
      ]
     },
     "execution_count": 14,
     "metadata": {},
     "output_type": "execute_result"
    }
   ],
   "source": [
    "dset.coco.imgToAnns[537548]"
   ]
  },
  {
   "cell_type": "code",
   "execution_count": 24,
   "metadata": {},
   "outputs": [
    {
     "name": "stdout",
     "output_type": "stream",
     "text": [
      "64115\n",
      "0\n"
     ]
    }
   ],
   "source": [
    "i = 0\n",
    "j = 0\n",
    "for _, ann in dset.coco.imgToAnns.items():\n",
    "    if ann[0]['iscrowd'] == 0:\n",
    "        i += 1\n",
    "    else:\n",
    "        j += 1\n",
    "print(i)\n",
    "print(j)"
   ]
  },
  {
   "cell_type": "code",
   "execution_count": null,
   "metadata": {},
   "outputs": [],
   "source": []
  }
 ],
 "metadata": {
  "kernelspec": {
   "name": "pycharm-777cc745",
   "language": "python",
   "display_name": "PyCharm (human.pose.estimation.made.easy)"
  },
  "language_info": {
   "codemirror_mode": {
    "name": "ipython",
    "version": 3
   },
   "file_extension": ".py",
   "mimetype": "text/x-python",
   "name": "python",
   "nbconvert_exporter": "python",
   "pygments_lexer": "ipython3",
   "version": "3.6.8"
  },
  "pycharm": {
   "stem_cell": {
    "cell_type": "raw",
    "source": [],
    "metadata": {
     "collapsed": false
    }
   }
  }
 },
 "nbformat": 4,
 "nbformat_minor": 4
}