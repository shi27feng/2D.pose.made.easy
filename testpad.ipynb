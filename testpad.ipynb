{
 "cells": [
  {
   "cell_type": "code",
   "execution_count": 1,
   "metadata": {
    "pycharm": {
     "is_executing": false
    }
   },
   "outputs": [],
   "source": [
    "from config import train_config as cfg\n",
    "try:\n",
    "    import cupy as np\n",
    "except ImportError:\n",
    "    import numpy as np\n",
    "\n",
    "from coco import CocoDataset"
   ]
  },
  {
   "cell_type": "code",
   "execution_count": 2,
   "metadata": {},
   "outputs": [
    {
     "name": "stdout",
     "output_type": "stream",
     "text": [
      "loading annotations into memory...\n",
      "Done (t=6.12s)\n",
      "creating index...\n",
      "index created!\n"
     ]
    }
   ],
   "source": [
    "dset = CocoDataset(cfg=cfg)"
   ]
  },
  {
   "cell_type": "code",
   "execution_count": 3,
   "metadata": {},
   "outputs": [],
   "source": [
    "sample = dset[0]"
   ]
  },
  {
   "cell_type": "code",
   "execution_count": 4,
   "metadata": {},
   "outputs": [
    {
     "data": {
      "text/plain": [
       "{'annotation': {'img_id': 537548,\n",
       "  'img_path': '000000537548.jpg',\n",
       "  'img_width': 640,\n",
       "  'img_height': 480,\n",
       "  'person_center': [355, 227],\n",
       "  'bbox': [[267.03, 104.32, 229.19, 320]],\n",
       "  'segmentation': [[267.03,\n",
       "    243.78,\n",
       "    314.59,\n",
       "    154.05,\n",
       "    357.84,\n",
       "    136.76,\n",
       "    374.05,\n",
       "    104.32,\n",
       "    410.81,\n",
       "    110.81,\n",
       "    429.19,\n",
       "    131.35,\n",
       "    420.54,\n",
       "    165.95,\n",
       "    451.89,\n",
       "    209.19,\n",
       "    464.86,\n",
       "    240.54,\n",
       "    480,\n",
       "    253.51,\n",
       "    484.32,\n",
       "    263.24,\n",
       "    496.22,\n",
       "    271.89,\n",
       "    484.32,\n",
       "    278.38,\n",
       "    438.92,\n",
       "    257.84,\n",
       "    401.08,\n",
       "    216.76,\n",
       "    370.81,\n",
       "    247.03,\n",
       "    414.05,\n",
       "    277.3,\n",
       "    433.51,\n",
       "    304.32,\n",
       "    443.24,\n",
       "    323.78,\n",
       "    400,\n",
       "    362.7,\n",
       "    376.22,\n",
       "    375.68,\n",
       "    400,\n",
       "    418.92,\n",
       "    394.59,\n",
       "    424.32,\n",
       "    337.3,\n",
       "    382.16,\n",
       "    337.3,\n",
       "    371.35,\n",
       "    388.11,\n",
       "    327.03,\n",
       "    341.62,\n",
       "    301.08,\n",
       "    311.35,\n",
       "    276.22,\n",
       "    304.86,\n",
       "    263.24,\n",
       "    294.05,\n",
       "    249.19]],\n",
       "  'keypoints': [[0,\n",
       "    0,\n",
       "    0,\n",
       "    0,\n",
       "    0,\n",
       "    0,\n",
       "    0,\n",
       "    0,\n",
       "    0,\n",
       "    0,\n",
       "    0,\n",
       "    0,\n",
       "    0,\n",
       "    0,\n",
       "    0,\n",
       "    0,\n",
       "    0,\n",
       "    0,\n",
       "    325,\n",
       "    160,\n",
       "    2,\n",
       "    398,\n",
       "    177,\n",
       "    2,\n",
       "    0,\n",
       "    0,\n",
       "    0,\n",
       "    437,\n",
       "    238,\n",
       "    2,\n",
       "    0,\n",
       "    0,\n",
       "    0,\n",
       "    477,\n",
       "    270,\n",
       "    2,\n",
       "    287,\n",
       "    255,\n",
       "    1,\n",
       "    339,\n",
       "    267,\n",
       "    2,\n",
       "    0,\n",
       "    0,\n",
       "    0,\n",
       "    423,\n",
       "    314,\n",
       "    2,\n",
       "    0,\n",
       "    0,\n",
       "    0,\n",
       "    355,\n",
       "    367,\n",
       "    2,\n",
       "    355,\n",
       "    227,\n",
       "    2]]},\n",
       " 'image': array([[[ 0.4921875 ,  0.4921875 ,  0.4921875 , ..., -0.5       ,\n",
       "          -0.5       , -0.5       ],\n",
       "         [ 0.49609375,  0.49609375,  0.49609375, ..., -0.5       ,\n",
       "          -0.5       , -0.5       ],\n",
       "         [ 0.49609375,  0.49609375,  0.49609375, ..., -0.5       ,\n",
       "          -0.5       , -0.5       ],\n",
       "         ...,\n",
       "         [ 0.21875   ,  0.1328125 ,  0.19140625, ...,  0.4296875 ,\n",
       "           0.34375   ,  0.36328125],\n",
       "         [ 0.3046875 ,  0.19921875,  0.203125  , ...,  0.30078125,\n",
       "           0.40625   ,  0.37109375],\n",
       "         [ 0.16796875,  0.1796875 ,  0.1953125 , ...,  0.33203125,\n",
       "           0.28515625,  0.3046875 ]],\n",
       " \n",
       "        [[ 0.49609375,  0.49609375,  0.49609375, ..., -0.5       ,\n",
       "          -0.5       , -0.5       ],\n",
       "         [ 0.49609375,  0.49609375,  0.49609375, ..., -0.5       ,\n",
       "          -0.5       , -0.5       ],\n",
       "         [ 0.49609375,  0.49609375,  0.49609375, ..., -0.5       ,\n",
       "          -0.5       , -0.5       ],\n",
       "         ...,\n",
       "         [ 0.19140625,  0.12109375,  0.1875    , ...,  0.44140625,\n",
       "           0.35546875,  0.3671875 ],\n",
       "         [ 0.28515625,  0.1953125 ,  0.2109375 , ...,  0.3203125 ,\n",
       "           0.42578125,  0.390625  ],\n",
       "         [ 0.16015625,  0.1875    ,  0.2109375 , ...,  0.3515625 ,\n",
       "           0.3125    ,  0.33203125]],\n",
       " \n",
       "        [[ 0.37109375,  0.37109375,  0.37109375, ..., -0.5       ,\n",
       "          -0.5       , -0.5       ],\n",
       "         [ 0.375     ,  0.375     ,  0.375     , ..., -0.5       ,\n",
       "          -0.5       , -0.5       ],\n",
       "         [ 0.375     ,  0.375     ,  0.375     , ..., -0.5       ,\n",
       "          -0.5       , -0.5       ],\n",
       "         ...,\n",
       "         [ 0.203125  ,  0.12890625,  0.1953125 , ...,  0.43359375,\n",
       "           0.34765625,  0.359375  ],\n",
       "         [ 0.29296875,  0.203125  ,  0.21484375, ...,  0.3125    ,\n",
       "           0.41796875,  0.3828125 ],\n",
       "         [ 0.16015625,  0.19140625,  0.21484375, ...,  0.34375   ,\n",
       "           0.30078125,  0.3203125 ]]], dtype=float32),\n",
       " 'keypoint_map': array([[0., 0., 0., ..., 0., 0., 0.],\n",
       "        [0., 0., 0., ..., 0., 0., 0.],\n",
       "        [0., 0., 0., ..., 0., 0., 0.],\n",
       "        ...,\n",
       "        [0., 0., 0., ..., 0., 0., 0.],\n",
       "        [0., 0., 0., ..., 0., 0., 0.],\n",
       "        [0., 0., 0., ..., 0., 0., 0.]], dtype=float32),\n",
       " 'depth_map': array([[0., 0., 0., ..., 0., 0., 0.],\n",
       "        [0., 0., 0., ..., 0., 0., 0.],\n",
       "        [0., 0., 0., ..., 0., 0., 0.],\n",
       "        ...,\n",
       "        [0., 0., 0., ..., 0., 0., 0.],\n",
       "        [0., 0., 0., ..., 0., 0., 0.],\n",
       "        [0., 0., 0., ..., 0., 0., 0.]], dtype=float32),\n",
       " 'offset_map': array([[[0., 0.],\n",
       "         [0., 0.],\n",
       "         [0., 0.],\n",
       "         ...,\n",
       "         [0., 0.],\n",
       "         [0., 0.],\n",
       "         [0., 0.]],\n",
       " \n",
       "        [[0., 0.],\n",
       "         [0., 0.],\n",
       "         [0., 0.],\n",
       "         ...,\n",
       "         [0., 0.],\n",
       "         [0., 0.],\n",
       "         [0., 0.]],\n",
       " \n",
       "        [[0., 0.],\n",
       "         [0., 0.],\n",
       "         [0., 0.],\n",
       "         ...,\n",
       "         [0., 0.],\n",
       "         [0., 0.],\n",
       "         [0., 0.]],\n",
       " \n",
       "        ...,\n",
       " \n",
       "        [[0., 0.],\n",
       "         [0., 0.],\n",
       "         [0., 0.],\n",
       "         ...,\n",
       "         [0., 0.],\n",
       "         [0., 0.],\n",
       "         [0., 0.]],\n",
       " \n",
       "        [[0., 0.],\n",
       "         [0., 0.],\n",
       "         [0., 0.],\n",
       "         ...,\n",
       "         [0., 0.],\n",
       "         [0., 0.],\n",
       "         [0., 0.]],\n",
       " \n",
       "        [[0., 0.],\n",
       "         [0., 0.],\n",
       "         [0., 0.],\n",
       "         ...,\n",
       "         [0., 0.],\n",
       "         [0., 0.],\n",
       "         [0., 0.]]], dtype=float32)}"
      ]
     },
     "execution_count": 4,
     "metadata": {},
     "output_type": "execute_result"
    }
   ],
   "source": [
    "sample"
   ]
  },
  {
   "cell_type": "code",
   "execution_count": 5,
   "metadata": {},
   "outputs": [
    {
     "name": "stdout",
     "output_type": "stream",
     "text": [
      "(480, 640)\n",
      "(480, 640)\n",
      "(480, 640, 2)\n"
     ]
    }
   ],
   "source": [
    "coords = sample['annotation']['keypoints'][0][18: 20]\n",
    "print(sample['keypoint_map'].shape)\n",
    "print(sample['depth_map'].shape)\n",
    "print(sample['offset_map'].shape)"
   ]
  },
  {
   "cell_type": "code",
   "execution_count": 5,
   "metadata": {},
   "outputs": [],
   "source": [
    "from models import ResNet_Spec, ResNet\n",
    "import hiddenlayer as hl\n",
    "import torch"
   ]
  },
  {
   "cell_type": "code",
   "execution_count": 6,
   "metadata": {},
   "outputs": [
    {
     "name": "stdout",
     "output_type": "stream",
     "text": [
      "device =  cuda:0\n"
     ]
    },
    {
     "ename": "TypeError",
     "evalue": "__init__() got an unexpected keyword argument 'down_sample'",
     "output_type": "error",
     "traceback": [
      "\u001b[0;31m---------------------------------------------------------------------------\u001b[0m",
      "\u001b[0;31mTypeError\u001b[0m                                 Traceback (most recent call last)",
      "\u001b[0;32m<ipython-input-6-e77cf8b9ce00>\u001b[0m in \u001b[0;36m<module>\u001b[0;34m\u001b[0m\n\u001b[1;32m      2\u001b[0m \u001b[0mprint\u001b[0m\u001b[0;34m(\u001b[0m\u001b[0;34m\"device = \"\u001b[0m\u001b[0;34m,\u001b[0m \u001b[0mdevice\u001b[0m\u001b[0;34m)\u001b[0m\u001b[0;34m\u001b[0m\u001b[0;34m\u001b[0m\u001b[0m\n\u001b[1;32m      3\u001b[0m \u001b[0;34m\u001b[0m\u001b[0m\n\u001b[0;32m----> 4\u001b[0;31m \u001b[0mmodel\u001b[0m \u001b[0;34m=\u001b[0m \u001b[0mResNet\u001b[0m\u001b[0;34m(\u001b[0m\u001b[0mResNet_Spec\u001b[0m\u001b[0;34m[\u001b[0m\u001b[0;36m18\u001b[0m\u001b[0;34m]\u001b[0m\u001b[0;34m)\u001b[0m\u001b[0;34m\u001b[0m\u001b[0;34m\u001b[0m\u001b[0m\n\u001b[0m\u001b[1;32m      5\u001b[0m \u001b[0mmodel\u001b[0m\u001b[0;34m.\u001b[0m\u001b[0mlayers\u001b[0m\u001b[0;34m\u001b[0m\u001b[0;34m\u001b[0m\u001b[0m\n\u001b[1;32m      6\u001b[0m \u001b[0mhl_graph\u001b[0m \u001b[0;34m=\u001b[0m \u001b[0mhl\u001b[0m\u001b[0;34m.\u001b[0m\u001b[0mbuild_graph\u001b[0m\u001b[0;34m(\u001b[0m\u001b[0mmodel\u001b[0m\u001b[0;34m,\u001b[0m \u001b[0mtorch\u001b[0m\u001b[0;34m.\u001b[0m\u001b[0mzeros\u001b[0m\u001b[0;34m(\u001b[0m\u001b[0;34m[\u001b[0m\u001b[0;36m1\u001b[0m\u001b[0;34m,\u001b[0m \u001b[0;36m3\u001b[0m\u001b[0;34m,\u001b[0m \u001b[0;36m512\u001b[0m\u001b[0;34m,\u001b[0m \u001b[0;36m512\u001b[0m\u001b[0;34m]\u001b[0m\u001b[0;34m)\u001b[0m\u001b[0;34m.\u001b[0m\u001b[0mto\u001b[0m\u001b[0;34m(\u001b[0m\u001b[0mdevice\u001b[0m\u001b[0;34m=\u001b[0m\u001b[0mdevice\u001b[0m\u001b[0;34m)\u001b[0m\u001b[0;34m)\u001b[0m\u001b[0;34m\u001b[0m\u001b[0;34m\u001b[0m\u001b[0m\n",
      "\u001b[0;32m~/Workspace/2D.pose.made.easy/models.py\u001b[0m in \u001b[0;36m__init__\u001b[0;34m(self, cfg, in_channels)\u001b[0m\n\u001b[1;32m     43\u001b[0m                                                 \u001b[0mcfg\u001b[0m\u001b[0;34m[\u001b[0m\u001b[0;34m'channels'\u001b[0m\u001b[0;34m]\u001b[0m\u001b[0;34m[\u001b[0m\u001b[0moffset\u001b[0m \u001b[0;34m+\u001b[0m \u001b[0mi\u001b[0m\u001b[0;34m]\u001b[0m\u001b[0;34m,\u001b[0m\u001b[0;34m\u001b[0m\u001b[0;34m\u001b[0m\u001b[0m\n\u001b[1;32m     44\u001b[0m                                                 \u001b[0mcfg\u001b[0m\u001b[0;34m[\u001b[0m\u001b[0;34m'blocks'\u001b[0m\u001b[0;34m]\u001b[0m\u001b[0;34m[\u001b[0m\u001b[0mi\u001b[0m\u001b[0;34m]\u001b[0m\u001b[0;34m,\u001b[0m\u001b[0;34m\u001b[0m\u001b[0;34m\u001b[0m\u001b[0m\n\u001b[0;32m---> 45\u001b[0;31m                                                 stride=2))\n\u001b[0m\u001b[1;32m     46\u001b[0m         \u001b[0mself\u001b[0m\u001b[0;34m.\u001b[0m\u001b[0m_initialize\u001b[0m\u001b[0;34m(\u001b[0m\u001b[0;34m)\u001b[0m\u001b[0;34m\u001b[0m\u001b[0;34m\u001b[0m\u001b[0m\n\u001b[1;32m     47\u001b[0m \u001b[0;34m\u001b[0m\u001b[0m\n",
      "\u001b[0;32m~/Workspace/2D.pose.made.easy/models.py\u001b[0m in \u001b[0;36m_make_layer\u001b[0;34m(self, block, planes, blocks, stride)\u001b[0m\n\u001b[1;32m     55\u001b[0m \u001b[0;34m\u001b[0m\u001b[0m\n\u001b[1;32m     56\u001b[0m         \u001b[0;31m# layers = [block(self.inplanes, planes, stride, down_sample)]\u001b[0m\u001b[0;34m\u001b[0m\u001b[0;34m\u001b[0m\u001b[0;34m\u001b[0m\u001b[0m\n\u001b[0;32m---> 57\u001b[0;31m         \u001b[0mlayers\u001b[0m \u001b[0;34m=\u001b[0m \u001b[0;34m[\u001b[0m\u001b[0mblock\u001b[0m\u001b[0;34m(\u001b[0m\u001b[0mself\u001b[0m\u001b[0;34m.\u001b[0m\u001b[0minplanes\u001b[0m\u001b[0;34m,\u001b[0m \u001b[0mplanes\u001b[0m\u001b[0;34m,\u001b[0m \u001b[0mdown_sample\u001b[0m\u001b[0;34m=\u001b[0m\u001b[0mdown_sample\u001b[0m\u001b[0;34m)\u001b[0m\u001b[0;34m]\u001b[0m\u001b[0;34m\u001b[0m\u001b[0;34m\u001b[0m\u001b[0m\n\u001b[0m\u001b[1;32m     58\u001b[0m         \u001b[0mself\u001b[0m\u001b[0;34m.\u001b[0m\u001b[0minplanes\u001b[0m \u001b[0;34m=\u001b[0m \u001b[0mplanes\u001b[0m \u001b[0;34m*\u001b[0m \u001b[0mblock\u001b[0m\u001b[0;34m.\u001b[0m\u001b[0mexpansion\u001b[0m\u001b[0;34m\u001b[0m\u001b[0;34m\u001b[0m\u001b[0m\n\u001b[1;32m     59\u001b[0m \u001b[0;34m\u001b[0m\u001b[0m\n",
      "\u001b[0;31mTypeError\u001b[0m: __init__() got an unexpected keyword argument 'down_sample'"
     ]
    }
   ],
   "source": [
    "device = torch.device(\"cuda:0\" if torch.cuda.is_available() else \"cpu\")\n",
    "print(\"device = \", device)\n",
    "\n",
    "model = ResNet(ResNet_Spec[18])\n",
    "model.layers\n",
    "hl_graph = hl.build_graph(model, torch.zeros([1, 3, 512, 512]).to(device=device))\n",
    "hl_graph.theme = hl.graph.THEMES[\"blue\"].copy()\n",
    "hl_graph.save('pose_net.png', 'png')"
   ]
  },
  {
   "cell_type": "code",
   "execution_count": 24,
   "metadata": {},
   "outputs": [
    {
     "name": "stdout",
     "output_type": "stream",
     "text": [
      "64115\n",
      "0\n"
     ]
    }
   ],
   "source": [
    "i = 0\n",
    "j = 0\n",
    "for _, ann in dset.coco.imgToAnns.items():\n",
    "    if ann[0]['iscrowd'] == 0:\n",
    "        i += 1\n",
    "    else:\n",
    "        j += 1\n",
    "print(i)\n",
    "print(j)"
   ]
  },
  {
   "cell_type": "code",
   "execution_count": null,
   "metadata": {},
   "outputs": [],
   "source": []
  }
 ],
 "metadata": {
  "kernelspec": {
   "display_name": "PyCharm (human.pose.estimation.made.easy)",
   "language": "python",
   "name": "pycharm-777cc745"
  },
  "language_info": {
   "codemirror_mode": {
    "name": "ipython",
    "version": 3
   },
   "file_extension": ".py",
   "mimetype": "text/x-python",
   "name": "python",
   "nbconvert_exporter": "python",
   "pygments_lexer": "ipython3",
   "version": "3.6.8"
  },
  "pycharm": {
   "stem_cell": {
    "cell_type": "raw",
    "metadata": {
     "collapsed": false
    },
    "source": []
   }
  }
 },
 "nbformat": 4,
 "nbformat_minor": 4
}
